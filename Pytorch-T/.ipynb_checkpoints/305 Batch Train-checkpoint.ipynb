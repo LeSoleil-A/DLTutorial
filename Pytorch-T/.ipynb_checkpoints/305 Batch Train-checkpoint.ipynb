{
 "cells": [
  {
   "cell_type": "code",
   "execution_count": 1,
   "id": "71a7629a",
   "metadata": {},
   "outputs": [
    {
     "data": {
      "text/plain": [
       "<torch._C.Generator at 0x7f06f43564b0>"
      ]
     },
     "execution_count": 1,
     "metadata": {},
     "output_type": "execute_result"
    }
   ],
   "source": [
    "import torch\n",
    "import torch.utils.data as Data\n",
    "\n",
    "torch.manual_seed(1)"
   ]
  },
  {
   "cell_type": "code",
   "execution_count": 16,
   "id": "a68f49d3",
   "metadata": {},
   "outputs": [],
   "source": [
    "BATCH_SIZE = 5"
   ]
  },
  {
   "cell_type": "code",
   "execution_count": 17,
   "id": "6becde65",
   "metadata": {},
   "outputs": [],
   "source": [
    "x = torch.linspace(1, 10, 10)\n",
    "y = torch.linspace(10, 1, 10)"
   ]
  },
  {
   "cell_type": "code",
   "execution_count": 18,
   "id": "70f7ccb1",
   "metadata": {},
   "outputs": [],
   "source": [
    "# Directly input x and y, as Pytorch 2.0 doesn't have data_tensor or target_tensor as input parameters\n",
    "torch_dataset = Data.TensorDataset(x, y)\n",
    "loader = Data.DataLoader(\n",
    "    dataset=torch_dataset,    # torch TensorDataset format\n",
    "    batch_size=BATCH_SIZE,    # mini batch size\n",
    "    shuffle=True,             # random shuffle for training\n",
    "    num_workers=2             # subprocesses for loading data\n",
    ")"
   ]
  },
  {
   "cell_type": "code",
   "execution_count": 20,
   "id": "5c7fb293",
   "metadata": {},
   "outputs": [
    {
     "name": "stdout",
     "output_type": "stream",
     "text": [
      "Epoch:  0 | Step:  0 | batch x:  [5. 6. 8. 7. 1.] | batch_y:  [ 6.  5.  3.  4. 10.]\n",
      "Epoch:  0 | Step:  1 | batch x:  [ 3.  9.  2.  4. 10.] | batch_y:  [8. 2. 9. 7. 1.]\n",
      "Epoch:  1 | Step:  0 | batch x:  [1. 5. 7. 6. 4.] | batch_y:  [10.  6.  4.  5.  7.]\n",
      "Epoch:  1 | Step:  1 | batch x:  [ 3.  2.  9. 10.  8.] | batch_y:  [8. 9. 2. 1. 3.]\n",
      "Epoch:  2 | Step:  0 | batch x:  [4. 5. 8. 6. 2.] | batch_y:  [7. 6. 3. 5. 9.]\n",
      "Epoch:  2 | Step:  1 | batch x:  [ 9. 10.  7.  1.  3.] | batch_y:  [ 2.  1.  4. 10.  8.]\n"
     ]
    }
   ],
   "source": [
    "for epoch in range(3):    # train entire dataset 3 times\n",
    "    for step, (batch_x, batch_y) in enumerate(loader):\n",
    "        # train your data ...\n",
    "        print('Epoch: ', epoch, '| Step: ', step, '| batch x: ',\n",
    "             batch_x.numpy(), '| batch_y: ', batch_y.numpy())"
   ]
  },
  {
   "cell_type": "code",
   "execution_count": 21,
   "id": "88db5c4d",
   "metadata": {},
   "outputs": [
    {
     "name": "stdout",
     "output_type": "stream",
     "text": [
      "Epoch:  0 | Step:  0 | batch x:  [ 7.  8.  4.  2.  3.  9. 10.  6.] | batch y:  [4. 3. 7. 9. 8. 2. 1. 5.]\n",
      "Epoch:  0 | Step:  1 | batch x:  [1. 5.] | batch y:  [10.  6.]\n",
      "Epoch:  1 | Step:  0 | batch x:  [10.  9.  7.  6.  2.  8.  5.  3.] | batch y:  [1. 2. 4. 5. 9. 3. 6. 8.]\n",
      "Epoch:  1 | Step:  1 | batch x:  [4. 1.] | batch y:  [ 7. 10.]\n",
      "Epoch:  2 | Step:  0 | batch x:  [ 3.  4.  9.  7.  1. 10.  6.  5.] | batch y:  [ 8.  7.  2.  4. 10.  1.  5.  6.]\n",
      "Epoch:  2 | Step:  1 | batch x:  [8. 2.] | batch y:  [3. 9.]\n"
     ]
    }
   ],
   "source": [
    "BATCH_SIZE = 8\n",
    "loader = Data.DataLoader(\n",
    "    dataset=torch_dataset,      # torch TensorDataset format\n",
    "    batch_size=BATCH_SIZE,      # mini batch size\n",
    "    shuffle=True,               # random shuffle for training\n",
    "    num_workers=2,              # subprocesses for loading data\n",
    ")\n",
    "for epoch in range(3):   # train entire dataset 3 times\n",
    "    for step, (batch_x, batch_y) in enumerate(loader):  # for each training step\n",
    "        # train your data...\n",
    "        print('Epoch: ', epoch, '| Step: ', step, '| batch x: ',\n",
    "              batch_x.numpy(), '| batch y: ', batch_y.numpy())"
   ]
  },
  {
   "cell_type": "code",
   "execution_count": null,
   "id": "c3dd0a6c",
   "metadata": {},
   "outputs": [],
   "source": []
  }
 ],
 "metadata": {
  "kernelspec": {
   "display_name": "Python 3 (ipykernel)",
   "language": "python",
   "name": "python3"
  },
  "language_info": {
   "codemirror_mode": {
    "name": "ipython",
    "version": 3
   },
   "file_extension": ".py",
   "mimetype": "text/x-python",
   "name": "python",
   "nbconvert_exporter": "python",
   "pygments_lexer": "ipython3",
   "version": "3.9.13"
  }
 },
 "nbformat": 4,
 "nbformat_minor": 5
}
