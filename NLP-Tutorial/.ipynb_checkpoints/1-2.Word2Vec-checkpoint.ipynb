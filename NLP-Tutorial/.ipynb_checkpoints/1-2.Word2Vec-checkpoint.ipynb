{
 "cells": [
  {
   "cell_type": "code",
   "execution_count": 1,
   "id": "968bc9d0",
   "metadata": {},
   "outputs": [],
   "source": [
    "import numpy as np\n",
    "import torch\n",
    "import torch.nn as nn\n",
    "import torch.optim as optim\n",
    "import matplotlib.pyplot as plt"
   ]
  },
  {
   "cell_type": "code",
   "execution_count": 2,
   "id": "1ab735e6",
   "metadata": {},
   "outputs": [],
   "source": [
    "def random_batch():\n",
    "    random_inputs = []\n",
    "    random_labels = []\n",
    "    random_index = np.random.choice(range(len(skip_grams)), batch_size, replace=False)\n",
    "    print(\"random_index: \", random_index)\n",
    "    \n",
    "    for i in random_index:\n",
    "        random_inputs.append(np.eye(voc_size)[skip_grams[i][0]])   # target\n",
    "        random_labels.append(skip_grams[i][1])   # context word\n",
    "        \n",
    "    return random_inputs, random_labels"
   ]
  },
  {
   "cell_type": "code",
   "execution_count": 3,
   "id": "a4650c81",
   "metadata": {},
   "outputs": [],
   "source": [
    "class Word2Vec(nn.Module):\n",
    "    def __init__(self):\n",
    "        super(Word2Vec, self).__init__()\n",
    "        # W and WT is not Traspose relationship\n",
    "        self.W = nn.Linear(voc_size, embedding_size, bias = False)    # voc_size > embeddingsize Weight\n",
    "        self.WT = nn.Linear(embedding_size, voc_size, bias = False)   # embedding_size > voc_size Weight\n",
    "        \n",
    "    def forward(self, X):\n",
    "        # X: [batch_size, voc_size]\n",
    "        hidden_layer = self.W(X)    # hidden_layer: [batch_size, embedding_size]\n",
    "        output_layer = self.WT(hidden_layer)    # output_layer: [batch_size, voc_size]\n",
    "        return output_layer"
   ]
  },
  {
   "cell_type": "code",
   "execution_count": 4,
   "id": "8fd168d2",
   "metadata": {},
   "outputs": [
    {
     "name": "stdout",
     "output_type": "stream",
     "text": [
      "skip_grams:  [[2, 0], [2, 1], [1, 2], [1, 2], [2, 1], [2, 3], [3, 2], [3, 1], [1, 3], [1, 3], [3, 1], [3, 2], [2, 3], [2, 1], [1, 2], [1, 5], [5, 1], [5, 4], [4, 5], [4, 6], [6, 4], [6, 4], [4, 6], [4, 7], [7, 4], [7, 6], [6, 7], [6, 7], [7, 6], [7, 5], [5, 7], [5, 6]]\n",
      "random_index:  [ 1 20]\n",
      "input_batch:  "
     ]
    },
    {
     "name": "stderr",
     "output_type": "stream",
     "text": [
      "/tmp/ipykernel_43867/2785249450.py:32: UserWarning: Creating a tensor from a list of numpy.ndarrays is extremely slow. Please consider converting the list to a single numpy.ndarray with numpy.array() before converting to a tensor. (Triggered internally at  /opt/conda/conda-bld/pytorch_1656352660876/work/torch/csrc/utils/tensor_new.cpp:201.)\n",
      "  input_batch = torch.Tensor(input_batch)\n"
     ]
    },
    {
     "name": "stdout",
     "output_type": "stream",
     "text": [
      "tensor([[0., 0., 1., 0., 0., 0., 0., 0.],\n",
      "        [0., 0., 0., 0., 0., 0., 1., 0.]])\n",
      "target_batch:  tensor([1, 4])\n",
      "output:  tensor([[ 0.0942,  0.1343, -0.0128,  0.0721,  0.1657,  0.0475, -0.0283,  0.2027],\n",
      "        [-0.1116, -0.0776, -0.0437, -0.1029, -0.1273, -0.0588,  0.0602, -0.0934]],\n",
      "       grad_fn=<MmBackward0>)\n"
     ]
    },
    {
     "data": {
      "image/png": "[encoded data removed]",
      "text/plain": [
       "<Figure size 640x480 with 1 Axes>"
      ]
     },
     "metadata": {},
     "output_type": "display_data"
    }
   ],
   "source": [
    "if __name__=='__main__':\n",
    "    batch_size = 2        # mini-batch size\n",
    "    embedding_size = 2    # embedding size\n",
    "    \n",
    "    sentences = [\"apple banana fruit\", \"banana orange fruit\", \"orange banana fruit\",\n",
    "                 \"dog cat animal\", \"cat monkey animal\", \"monkey dog animal\"]\n",
    "    \n",
    "    word_sequence = \" \".join(sentences).split()\n",
    "    word_list = \" \".join(sentences).split()\n",
    "    word_list = list(set(word_list))\n",
    "    word_dict = {w: i for i, w in enumerate(word_list)}\n",
    "    voc_size = len(word_list)\n",
    "    \n",
    "    # Make skip gram of one size window\n",
    "    skip_grams = []\n",
    "    for i in range(1, len(word_sequence) - 1):\n",
    "        # one size window: with the previous and next ones as context \n",
    "        target = word_dict[word_sequence[i]]\n",
    "        context = [word_dict[word_sequence[i - 1]], word_dict[word_sequence[i + 1]]]\n",
    "        for w in context:\n",
    "            skip_grams.append([target, w])\n",
    "        \n",
    "    model = Word2Vec()\n",
    "    \n",
    "    criterion = nn.CrossEntropyLoss()\n",
    "    optimizer = optim.Adam(model.parameters(), lr=0.001)\n",
    "    print(\"skip_grams: \", skip_grams)\n",
    "    \n",
    "    # Training\n",
    "    for epoch in range(1):\n",
    "        input_batch, target_batch = random_batch()\n",
    "        input_batch = torch.Tensor(input_batch)\n",
    "        target_batch = torch.LongTensor(target_batch)\n",
    "        \n",
    "        optimizer.zero_grad()\n",
    "        output = model(input_batch)\n",
    "        print(\"input_batch: \", input_batch)\n",
    "        print(\"target_batch: \", target_batch)\n",
    "        print(\"output: \", output)\n",
    "        \n",
    "        # output: [batch_size, voc_size], target_batch: [batch_size](LongTensor, not one-hot)\n",
    "        loss = criterion(output, target_batch)\n",
    "        if (epoch + 1) % 1000 == 0:\n",
    "            print('Epoch:', '%04d' % (epoch + 1), 'cost =', '{:.6f}'.format(loss))\n",
    "            \n",
    "        loss.backward()\n",
    "        optimizer.step()\n",
    "    \n",
    "    for i, label in enumerate(word_list):\n",
    "        W, WT = model.parameters()\n",
    "        x, y = W[0][i].item(), W[1][i].item()\n",
    "        plt.scatter(x, y)\n",
    "        plt.annotate(label, xy=(x, y), xytext=(5, 2), textcoords='offset points', ha='right', va='bottom')\n",
    "    plt.show()"
   ]
  },
  {
   "cell_type": "code",
   "execution_count": 5,
   "id": "d7166a95",
   "metadata": {},
   "outputs": [
    {
     "name": "stdout",
     "output_type": "stream",
     "text": [
      "random_index:  [5 7]\n",
      "output:  tensor([[ 0.0935,  0.1348, -0.0135,  0.0714,  0.1652,  0.0470, -0.0282,  0.2029],\n",
      "        [-0.1166, -0.1291, -0.0113, -0.0974, -0.1731, -0.0599,  0.0475, -0.1833]],\n",
      "       grad_fn=<MmBackward0>)\n"
     ]
    }
   ],
   "source": [
    "input_batch, target_batch = random_batch()\n",
    "input_batch = torch.Tensor(input_batch)\n",
    "target_batch = torch.LongTensor(target_batch)\n",
    "\n",
    "output = model(input_batch)\n",
    "print(\"output: \", output)"
   ]
  },
  {
   "cell_type": "code",
   "execution_count": null,
   "id": "4802ae56",
   "metadata": {},
   "outputs": [],
   "source": []
  }
 ],
 "metadata": {
  "kernelspec": {
   "display_name": "Python 3 (ipykernel)",
   "language": "python",
   "name": "python3"
  },
  "language_info": {
   "codemirror_mode": {
    "name": "ipython",
    "version": 3
   },
   "file_extension": ".py",
   "mimetype": "text/x-python",
   "name": "python",
   "nbconvert_exporter": "python",
   "pygments_lexer": "ipython3",
   "version": "3.9.13"
  }
 },
 "nbformat": 4,
 "nbformat_minor": 5
}
