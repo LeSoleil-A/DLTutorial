{
 "cells": [
  {
   "cell_type": "code",
   "execution_count": 1,
   "id": "96e2620c",
   "metadata": {},
   "outputs": [],
   "source": [
    "import torch\n",
    "from torch.autograd import Variable"
   ]
  },
  {
   "cell_type": "code",
   "execution_count": 2,
   "id": "e1581768",
   "metadata": {},
   "outputs": [
    {
     "name": "stdout",
     "output_type": "stream",
     "text": [
      "tensor([[1., 2.],\n",
      "        [3., 4.]])\n",
      "tensor([[1., 2.],\n",
      "        [3., 4.]], requires_grad=True)\n"
     ]
    }
   ],
   "source": [
    "tensor = torch.FloatTensor([[1,2],[3,4]])\n",
    "variable = Variable(tensor, requires_grad=True)    # build a variable, usually for compute gradients\n",
    "\n",
    "print(tensor)\n",
    "print(variable)"
   ]
  },
  {
   "cell_type": "code",
   "execution_count": 5,
   "id": "c45f9e90",
   "metadata": {},
   "outputs": [
    {
     "name": "stdout",
     "output_type": "stream",
     "text": [
      "None\n"
     ]
    }
   ],
   "source": [
    "print(variable.grad)"
   ]
  },
  {
   "cell_type": "code",
   "execution_count": 6,
   "id": "3b5df959",
   "metadata": {},
   "outputs": [
    {
     "name": "stdout",
     "output_type": "stream",
     "text": [
      "tensor(7.5000)\n",
      "tensor(7.5000, grad_fn=<MeanBackward0>)\n"
     ]
    }
   ],
   "source": [
    "# The variable is a part of the auto-gradient\n",
    "\n",
    "t_out = torch.mean(tensor*tensor)\n",
    "v_out = torch.mean(variable*variable)\n",
    "print(t_out)\n",
    "print(v_out)"
   ]
  },
  {
   "cell_type": "code",
   "execution_count": 7,
   "id": "0614c44f",
   "metadata": {},
   "outputs": [],
   "source": [
    "v_out.backward()"
   ]
  },
  {
   "cell_type": "code",
   "execution_count": 8,
   "id": "45cc09f8",
   "metadata": {},
   "outputs": [
    {
     "data": {
      "text/plain": [
       "tensor([[0.5000, 1.0000],\n",
       "        [1.5000, 2.0000]])"
      ]
     },
     "execution_count": 8,
     "metadata": {},
     "output_type": "execute_result"
    }
   ],
   "source": [
    "variable.grad"
   ]
  },
  {
   "cell_type": "code",
   "execution_count": 9,
   "id": "d4c6f0ec",
   "metadata": {},
   "outputs": [
    {
     "data": {
      "text/plain": [
       "tensor([[1., 2.],\n",
       "        [3., 4.]], requires_grad=True)"
      ]
     },
     "execution_count": 9,
     "metadata": {},
     "output_type": "execute_result"
    }
   ],
   "source": [
    "variable"
   ]
  },
  {
   "cell_type": "code",
   "execution_count": 10,
   "id": "c127167b",
   "metadata": {},
   "outputs": [
    {
     "data": {
      "text/plain": [
       "tensor([[1., 2.],\n",
       "        [3., 4.]])"
      ]
     },
     "execution_count": 10,
     "metadata": {},
     "output_type": "execute_result"
    }
   ],
   "source": [
    "variable.data"
   ]
  },
  {
   "cell_type": "code",
   "execution_count": 11,
   "id": "0e8e39a2",
   "metadata": {},
   "outputs": [
    {
     "data": {
      "text/plain": [
       "array([[1., 2.],\n",
       "       [3., 4.]], dtype=float32)"
      ]
     },
     "execution_count": 11,
     "metadata": {},
     "output_type": "execute_result"
    }
   ],
   "source": [
    "variable.data.numpy()"
   ]
  },
  {
   "cell_type": "code",
   "execution_count": 12,
   "id": "d6348af5",
   "metadata": {},
   "outputs": [
    {
     "name": "stdout",
     "output_type": "stream",
     "text": [
      "v_out:  tensor(7.5000, grad_fn=<MeanBackward0>)\n",
      "variable.grad:  tensor([[1., 2.],\n",
      "        [3., 4.]])\n"
     ]
    }
   ],
   "source": [
    "v_out = torch.mean(variable*variable)\n",
    "print(\"v_out: \", v_out)\n",
    "v_out.backward()\n",
    "print(\"variable.grad: \", variable.grad)"
   ]
  },
  {
   "cell_type": "code",
   "execution_count": 13,
   "id": "e7001250",
   "metadata": {},
   "outputs": [
    {
     "name": "stdout",
     "output_type": "stream",
     "text": [
      "v_out:  tensor(7.5000, grad_fn=<MeanBackward0>)\n",
      "variable.grad:  tensor([[1.5000, 3.0000],\n",
      "        [4.5000, 6.0000]])\n"
     ]
    }
   ],
   "source": [
    "v_out = torch.mean(variable*variable)\n",
    "print(\"v_out: \", v_out)\n",
    "v_out.backward()\n",
    "print(\"variable.grad: \", variable.grad)"
   ]
  },
  {
   "cell_type": "code",
   "execution_count": null,
   "id": "0912af32",
   "metadata": {},
   "outputs": [],
   "source": []
  }
 ],
 "metadata": {
  "kernelspec": {
   "display_name": "Python 3 (ipykernel)",
   "language": "python",
   "name": "python3"
  },
  "language_info": {
   "codemirror_mode": {
    "name": "ipython",
    "version": 3
   },
   "file_extension": ".py",
   "mimetype": "text/x-python",
   "name": "python",
   "nbconvert_exporter": "python",
   "pygments_lexer": "ipython3",
   "version": "3.9.13"
  }
 },
 "nbformat": 4,
 "nbformat_minor": 5
}
